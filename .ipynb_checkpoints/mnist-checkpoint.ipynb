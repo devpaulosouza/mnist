{
 "cells": [
  {
   "cell_type": "markdown",
   "id": "84165397-d3f9-489f-88d7-3c5eeabf0c16",
   "metadata": {},
   "source": [
    "# Reconhecimento de dígitos utilizando MNIST\n",
    "\n",
    "### Alunos:\n",
    "- Fábio Silva Campos Melo\n",
    "- Guilherme Moreira Nunes\n",
    "- Paulo Henrique dos Santos Souza\n",
    "\n",
    "### Problema:\n",
    "O MNIST é um conjunto de dados contendo imagens de dígitos manuscritos. Neste projeto, foi desenvolvida uma rede neural convolucional que utiliza o conjunto de dados MNIST para treinamento. Como resultado, aplicamos essa rede neural a uma foto contendo números manuscritos, permitindo que ela identifique quais dígitos foram escritos na imagem."
   ]
  },
  {
   "cell_type": "markdown",
   "id": "13aa4270-f9ae-4ef3-a47c-b066ed825a1f",
   "metadata": {},
   "source": [
    "### Imports\n",
    "\n",
    "O pandas é uma biblioteca utilizada para manipulação e análise de dados. No contexto mencionado, ele foi utilizado para extrair os dados do MNIST disponibilizados em formato CSV, permitindo a leitura e a manipulação dos dados de maneira eficiente.\n",
    "\n",
    "O numpy é uma biblioteca fundamental para computação numérica em Python. Ele oferece suporte a operações matemáticas avançadas, como operações em vetores e matrizes, além de fornecer funções úteis para cálculos estatísticos, manipulação de dados e transformações.\n",
    "\n",
    "O Keras é uma biblioteca de alto nível para construção e treinamento de redes neurais. Ela oferece uma interface simplificada e intuitiva para criar modelos de aprendizado profundo, incluindo redes neurais convolucionais, que são especialmente adequadas para o processamento de imagens. No contexto mencionado, o Keras é usado para treinar o modelo de rede neural convolucional com base nos dados do MNIST."
   ]
  },
  {
   "cell_type": "code",
   "execution_count": null,
   "id": "de39571f-d9ad-48e3-99c8-c150987742a6",
   "metadata": {
    "tags": []
   },
   "outputs": [],
   "source": [
    "import pandas as pd\n",
    "import numpy as np\n",
    "from keras.models import Sequential\n",
    "from keras.layers import Dense, Dropout, Flatten, Conv2D, MaxPooling2D\n",
    "from keras.utils import to_categorical\n",
    "\n",
    "import tensorflow as tf\n",
    "import os\n",
    "\n",
    "os.environ['CUDA_VISIBLE_DEVICES'] = '-1'"
   ]
  },
  {
   "cell_type": "code",
   "execution_count": 27,
   "id": "b4ba3b9c-72c7-4a5d-944b-3b49a11fe02f",
   "metadata": {
    "tags": []
   },
   "outputs": [],
   "source": [
    "\n",
    "# carregar dados do arquivo CSV\n",
    "df = pd.read_csv('dataset/mnist_train.csv')\n",
    "\n",
    "# extrair coluna de rótulos (labels)\n",
    "y = df['label'].values\n",
    "\n",
    "# extrair colunas de pixels e convertê-los em arrays de imagem\n",
    "x = df.iloc[:, 1:].values.reshape(df.shape[0], 28, 28, 1)\n",
    "\n",
    "# normalizar valores dos pixels para [0,1]\n",
    "x = x.astype('float32')\n",
    "x /= 255\n",
    "\n",
    "# converter rótulos em vetores de classes binárias\n",
    "y = to_categorical(y, 10)\n"
   ]
  },
  {
   "cell_type": "markdown",
   "id": "04774622-b1e1-49db-9deb-46084846d635",
   "metadata": {},
   "source": [
    "O código apresenta a definição de um modelo de rede neural convolucional usando a biblioteca Keras.\n",
    "\n",
    "O código apresenta uma arquitetura típica de uma rede neural convolucional para classificação de imagens. A sequência de camadas convolucionais, max pooling, dropout e camadas densas é comumente usada para extrair características das imagens e realizar a classificação final."
   ]
  },
  {
   "cell_type": "code",
   "execution_count": 28,
   "id": "12270011-53b0-45f6-9506-22dd1d58e8c6",
   "metadata": {
    "tags": []
   },
   "outputs": [],
   "source": [
    "\n",
    "# definir modelo\n",
    "#  Cria uma instância do modelo sequencial, que é uma pilha linear de camadas. Neste caso, é o modelo base para adicionar as camadas subsequentes.\n",
    "model = Sequential()\n",
    "\n",
    "# primeira camada convolucional com 32 filtros de tamanho 3x3\n",
    "# Adiciona uma camada convolucional à rede com 32 filtros de tamanho 3x3. A função de ativação utilizada é a ReLU. A camada recebe uma entrada de tamanho (28, 28, 1), que é o formato das imagens do MNIST.\n",
    "model.add(Conv2D(32, (3, 3), activation='relu', input_shape=(28, 28, 1)))\n",
    "\n",
    "# segunda camada convolucional com 64 filtros de tamanho 3x3\n",
    "# Adiciona outra camada convolucional à rede com 64 filtros de tamanho 3x3. A função de ativação utilizada também é a ReLU.\n",
    "model.add(Conv2D(64, (3, 3), activation='relu'))\n",
    "\n",
    "# camada de max pooling com tamanho de janela 2x2\n",
    "# Adiciona uma camada de max pooling à rede, com uma janela de tamanho 2x2. O max pooling reduz a dimensionalidade da saída das camadas anteriores, preservando as características mais importantes.\n",
    "model.add(MaxPooling2D((2, 2)))\n",
    "\n",
    "# camada de dropout para evitar overfitting\n",
    "# Adiciona uma camada de dropout à rede com uma taxa de dropout de 0.25. O dropout é uma técnica de regularização que ajuda a evitar overfitting, desativando aleatoriamente uma fração dos neurônios durante o treinamento.\n",
    "model.add(Dropout(0.25))\n",
    "\n",
    "# camada de achatamento para converter a saída em um vetor 1D\n",
    "# Adiciona uma camada de achatamento à rede, que transforma a saída das camadas anteriores em um vetor unidimensional. Isso é necessário para conectar a camada densa subsequente.\n",
    "model.add(Flatten())\n",
    "\n",
    "# camada densa com 128 neurônios e função de ativação ReLU\n",
    "# Adiciona uma camada densa à rede com 128 neurônios. A função de ativação utilizada é a ReLU.\n",
    "model.add(Dense(128, activation='relu'))\n",
    "\n",
    "# camada de dropout para evitar overfitting\n",
    "# Adiciona outra camada de dropout à rede com uma taxa de dropout de 0.5.\n",
    "model.add(Dropout(0.5))\n",
    "\n",
    "# camada de saída com 10 neurônios (1 para cada dígito)\n",
    "# e função de ativação softmax para obter uma distribuição de probabilidade\n",
    "model.add(Dense(10, activation='softmax'))\n"
   ]
  },
  {
   "cell_type": "code",
   "execution_count": 29,
   "id": "28ea6e6b-e734-4424-8484-2ce58d7d8a85",
   "metadata": {
    "tags": []
   },
   "outputs": [],
   "source": [
    "\n",
    "# compilar modelo com função de perda categorical cross-entropy,\n",
    "# otimizador Adam e métrica de acurácia\n",
    "model.compile(loss='categorical_crossentropy',\n",
    "              optimizer='adam',\n",
    "              metrics=['accuracy'])\n"
   ]
  },
  {
   "cell_type": "code",
   "execution_count": 30,
   "id": "bb8a79a3-00f0-4bd0-b5be-ad7b2707ba66",
   "metadata": {
    "tags": []
   },
   "outputs": [
    {
     "name": "stdout",
     "output_type": "stream",
     "text": [
      "Epoch 1/10\n"
     ]
    },
    {
     "name": "stderr",
     "output_type": "stream",
     "text": [
      "2023-05-19 23:03:16.028430: W tensorflow/tsl/framework/cpu_allocator_impl.cc:83] Allocation of 150528000 exceeds 10% of free system memory.\n"
     ]
    },
    {
     "name": "stdout",
     "output_type": "stream",
     "text": [
      "375/375 [==============================] - 36s 94ms/step - loss: 0.2818 - accuracy: 0.9144 - val_loss: 0.0631 - val_accuracy: 0.9818\n",
      "Epoch 2/10\n",
      "375/375 [==============================] - 38s 100ms/step - loss: 0.0941 - accuracy: 0.9723 - val_loss: 0.0460 - val_accuracy: 0.9857\n",
      "Epoch 3/10\n",
      "375/375 [==============================] - 38s 100ms/step - loss: 0.0679 - accuracy: 0.9797 - val_loss: 0.0429 - val_accuracy: 0.9876\n",
      "Epoch 4/10\n",
      "375/375 [==============================] - 37s 100ms/step - loss: 0.0567 - accuracy: 0.9826 - val_loss: 0.0389 - val_accuracy: 0.9885\n",
      "Epoch 5/10\n",
      "375/375 [==============================] - 37s 100ms/step - loss: 0.0478 - accuracy: 0.9846 - val_loss: 0.0372 - val_accuracy: 0.9892\n",
      "Epoch 6/10\n",
      "375/375 [==============================] - 37s 100ms/step - loss: 0.0413 - accuracy: 0.9874 - val_loss: 0.0364 - val_accuracy: 0.9898\n",
      "Epoch 7/10\n",
      "375/375 [==============================] - 38s 100ms/step - loss: 0.0354 - accuracy: 0.9891 - val_loss: 0.0360 - val_accuracy: 0.9896\n",
      "Epoch 8/10\n",
      "375/375 [==============================] - 37s 100ms/step - loss: 0.0341 - accuracy: 0.9889 - val_loss: 0.0357 - val_accuracy: 0.9897\n",
      "Epoch 9/10\n",
      "375/375 [==============================] - 37s 99ms/step - loss: 0.0293 - accuracy: 0.9902 - val_loss: 0.0374 - val_accuracy: 0.9903\n",
      "Epoch 10/10\n",
      "375/375 [==============================] - 37s 99ms/step - loss: 0.0305 - accuracy: 0.9902 - val_loss: 0.0391 - val_accuracy: 0.9902\n"
     ]
    }
   ],
   "source": [
    "\n",
    "# treinar modelo\n",
    "model.fit(x, y,\n",
    "          batch_size=128,\n",
    "          epochs=10,\n",
    "          verbose=1,\n",
    "          validation_split=0.2)\n",
    "\n",
    "# salvar modelo treinado\n",
    "model.save('mnist_model.h5')"
   ]
  },
  {
   "cell_type": "code",
   "execution_count": 4,
   "id": "f466454a-05f5-48cd-b04e-6f71e1d45a3a",
   "metadata": {
    "tags": []
   },
   "outputs": [
    {
     "name": "stderr",
     "output_type": "stream",
     "text": [
      "2023-05-23 17:03:10.342897: E tensorflow/compiler/xla/stream_executor/cuda/cuda_driver.cc:266] failed call to cuInit: CUDA_ERROR_NO_DEVICE: no CUDA-capable device is detected\n",
      "2023-05-23 17:03:10.695865: W tensorflow/tsl/framework/cpu_allocator_impl.cc:83] Allocation of 31360000 exceeds 10% of free system memory.\n"
     ]
    },
    {
     "name": "stdout",
     "output_type": "stream",
     "text": [
      "313/313 [==============================] - 2s 5ms/step\n",
      "Test accuracy: 0.9918\n"
     ]
    }
   ],
   "source": [
    "from tensorflow.keras.models import load_model\n",
    "\n",
    "# carregar dados de teste do arquivo CSV\n",
    "df_test = pd.read_csv('dataset/mnist_test.csv')\n",
    "\n",
    "# extrair colunas de pixels e remover a primeira coluna de rótulos\n",
    "x_test = df_test.iloc[:, 1:].values\n",
    "\n",
    "# normalizar valores dos pixels para [0,1] e redimensionar para o formato esperado pelo modelo\n",
    "x_test = x_test.astype('float32') / 255\n",
    "x_test = x_test.reshape(-1, 28, 28, 1)\n",
    "\n",
    "# carregar modelo treinado\n",
    "model = load_model('mnist_model.h5')\n",
    "\n",
    "# extrair coluna de rótulos e converter para array numpy\n",
    "y_test = df_test.iloc[:, 0].values\n",
    "\n",
    "# avaliar modelo nos dados de teste\n",
    "y_pred = model.predict(x_test)\n",
    "y_pred = np.argmax(y_pred, axis=1)\n",
    "\n",
    "# imprimir acurácia\n",
    "acc = np.mean(y_pred == y_test)\n",
    "print('Test accuracy:', acc)"
   ]
  },
  {
   "cell_type": "code",
   "execution_count": 13,
   "id": "198273cf-20d0-4a34-88f6-26a55a3908cd",
   "metadata": {},
   "outputs": [
    {
     "name": "stdout",
     "output_type": "stream",
     "text": [
      "1/1 [==============================] - 0s 199ms/step\n",
      "1/1 [==============================] - 0s 18ms/step\n",
      "1/1 [==============================] - 0s 16ms/step\n",
      "1/1 [==============================] - 0s 16ms/step\n",
      "1/1 [==============================] - 0s 16ms/step\n",
      "1/1 [==============================] - 0s 15ms/step\n",
      "1/1 [==============================] - 0s 15ms/step\n",
      "1/1 [==============================] - 0s 16ms/step\n",
      "1/1 [==============================] - 0s 16ms/step\n",
      "1/1 [==============================] - 0s 17ms/step\n"
     ]
    },
    {
     "data": {
      "text/plain": [
       "<Figure size 640x480 with 0 Axes>"
      ]
     },
     "metadata": {},
     "output_type": "display_data"
    }
   ],
   "source": [
    "import cv2\n",
    "import matplotlib.pyplot as plt\n",
    "\n",
    "def recortar_numeros(imagem):\n",
    "    # Carregar a imagem\n",
    "    img = cv2.imread(imagem)\n",
    "\n",
    "    # Converter a imagem para escala de cinza\n",
    "    img_gray = cv2.cvtColor(img, cv2.COLOR_BGR2GRAY)\n",
    "\n",
    "    # Binarizar a imagem usando um valor de limiar adequado\n",
    "    _, img_thresh = cv2.threshold(img_gray, 200, 255, cv2.THRESH_BINARY_INV)\n",
    "\n",
    "    # Encontrar contornos dos objetos na imagem binarizada\n",
    "    contours, _ = cv2.findContours(img_thresh, cv2.RETR_EXTERNAL, cv2.CHAIN_APPROX_SIMPLE)\n",
    "\n",
    "    # Criar uma lista para armazenar as informações dos contornos\n",
    "    contornos = []\n",
    "\n",
    "    # Iterar sobre os contornos encontrados\n",
    "    for contour in contours:\n",
    "        # Obter o retângulo delimitador do contorno\n",
    "        (x, y, w, h) = cv2.boundingRect(contour)\n",
    "        \n",
    "        # Ignorar contornos muito pequenos ou muito grandes\n",
    "        if w * h < 100 or w * h > 10000:\n",
    "            continue\n",
    "\n",
    "\n",
    "        # Adicionar as informações do contorno à lista\n",
    "        contornos.append((x, y, w, h))\n",
    "\n",
    "    # Ordenar os contornos com base na coordenada x\n",
    "    contornos = sorted(contornos, key=lambda c: c[0])\n",
    "\n",
    "    # Criar uma lista para armazenar as imagens recortadas dos números\n",
    "    numeros_recortados = []\n",
    "\n",
    "    # Recortar os números da imagem original na ordem correta\n",
    "    for (x, y, w, h) in contornos:\n",
    "        numero_recortado = img[y:y+h, x:x+w]\n",
    "        numero_redimensionado = cv2.resize(numero_recortado, (28, 28))\n",
    "        numeros_recortados.append(numero_redimensionado)\n",
    "\n",
    "    return numeros_recortados\n",
    "\n",
    "# Caminho da imagem com os números\n",
    "# caminho_imagem = 'numeros_manuscrito.jpg'\n",
    "caminho_imagem = 'numeros_1.jpeg'\n",
    "\n",
    "# Chamar a função para recortar os números da imagem\n",
    "numeros_recortados = recortar_numeros(caminho_imagem)\n",
    "\n",
    "# Exibir os números recortados usando matplotlib\n",
    "fig = plt.figure()\n",
    "\n",
    "\n",
    "# Preprocessar as imagens recortadas e fazer as previsões com o modelo\n",
    "previsoes = []\n",
    "for numero in numeros_recortados:\n",
    "    # Redimensionar o número para o tamanho esperado pelo modelo\n",
    "    numero_redimensionado = cv2.resize(numero, (28, 28))\n",
    "\n",
    "    # Converter o número para escala de cinza\n",
    "    numero_redimensionado_gray = cv2.cvtColor(numero_redimensionado, cv2.COLOR_BGR2GRAY)\n",
    "\n",
    "    # Binarizar o número usando um valor de limiar adequado\n",
    "    _, numero_thresh = cv2.threshold(numero_redimensionado_gray, 200, 255, cv2.THRESH_BINARY_INV)\n",
    "\n",
    "    # Expandir as dimensões do número para o formato esperado pelo modelo\n",
    "    numero_expandido = np.expand_dims(numero_thresh, axis=-1)\n",
    "    numero_expandido = np.expand_dims(numero_expandido, axis=0)\n",
    "\n",
    "    # Fazer a previsão com o modelo\n",
    "    previsao = model.predict(numero_expandido)\n",
    "    previsao = np.argmax(previsao)\n",
    "    previsoes.append(previsao)\n"
   ]
  },
  {
   "cell_type": "code",
   "execution_count": 14,
   "id": "360b519c-8af8-417a-a5c1-7c38e96ec864",
   "metadata": {},
   "outputs": [
    {
     "name": "stdout",
     "output_type": "stream",
     "text": [
      "Previsões: [3, 2, 3, 3, 4, 5, 2, 2, 2, 5]\n"
     ]
    }
   ],
   "source": [
    "\n",
    "# Imprimir as previsões\n",
    "print('Previsões:', previsoes)\n"
   ]
  },
  {
   "cell_type": "code",
   "execution_count": 15,
   "id": "9f172742-4a77-4bb9-9081-48bce2bb89ae",
   "metadata": {},
   "outputs": [
    {
     "data": {
      "image/png": "[encoded data removed]",
      "text/plain": [
       "<Figure size 1000x200 with 10 Axes>"
      ]
     },
     "metadata": {},
     "output_type": "display_data"
    }
   ],
   "source": [
    "\n",
    "# Exibir as imagens recortadas\n",
    "fig, axs = plt.subplots(1, len(numeros_recortados), figsize=(10, 2))\n",
    "for i, numero in enumerate(numeros_recortados):\n",
    "    axs[i].imshow(numero, cmap='gray')\n",
    "    axs[i].set_title('{}'.format(previsoes[i]))\n",
    "    axs[i].axis('off')\n",
    "plt.show()\n",
    "\n",
    "for i, numero_recortado in enumerate(numeros_recortados):\n",
    "    ax = fig.add_subplot(1, len(numeros_recortados), i+1)\n",
    "    ax.imshow(cv2.cvtColor(numero_recortado, cv2.COLOR_BGR2RGB))\n",
    "    ax.axis('off')"
   ]
  },
  {
   "cell_type": "code",
   "execution_count": null,
   "id": "b76632f7-3017-4e35-bbec-f30867a7bdaf",
   "metadata": {},
   "outputs": [],
   "source": []
  }
 ],
 "metadata": {
  "kernelspec": {
   "display_name": "Python 3 (ipykernel)",
   "language": "python",
   "name": "python3"
  },
  "language_info": {
   "codemirror_mode": {
    "name": "ipython",
    "version": 3
   },
   "file_extension": ".py",
   "mimetype": "text/x-python",
   "name": "python",
   "nbconvert_exporter": "python",
   "pygments_lexer": "ipython3",
   "version": "3.10.6"
  }
 },
 "nbformat": 4,
 "nbformat_minor": 5
}
